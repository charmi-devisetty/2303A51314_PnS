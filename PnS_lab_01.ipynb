{
  "nbformat": 4,
  "nbformat_minor": 0,
  "metadata": {
    "colab": {
      "provenance": [],
      "authorship_tag": "ABX9TyNVhxMlXFcZ8GeRVTC8XrLB",
      "include_colab_link": true
    },
    "kernelspec": {
      "name": "python3",
      "display_name": "Python 3"
    },
    "language_info": {
      "name": "python"
    }
  },
  "cells": [
    {
      "cell_type": "markdown",
      "metadata": {
        "id": "view-in-github",
        "colab_type": "text"
      },
      "source": [
        "<a href=\"https://colab.research.google.com/github/charmi-devisetty/2303A51314_PnS/blob/main/PnS_lab_01.ipynb\" target=\"_parent\"><img src=\"https://colab.research.google.com/assets/colab-badge.svg\" alt=\"Open In Colab\"/></a>"
      ]
    },
    {
      "cell_type": "markdown",
      "source": [
        "Import Numpy Library"
      ],
      "metadata": {
        "id": "rCqeGu2_1fls"
      }
    },
    {
      "cell_type": "code",
      "source": [
        "import numpy as np"
      ],
      "metadata": {
        "id": "pSLxCZzW1hH1"
      },
      "execution_count": null,
      "outputs": []
    },
    {
      "cell_type": "markdown",
      "source": [
        "Create an array"
      ],
      "metadata": {
        "id": "YQxCjSNq1soz"
      }
    },
    {
      "cell_type": "code",
      "source": [
        "a=[1,2,34,6,32,14,65,7]\n",
        "arr=np.array(a)\n",
        "print(arr)"
      ],
      "metadata": {
        "colab": {
          "base_uri": "https://localhost:8080/"
        },
        "id": "T7xZIorK18FT",
        "outputId": "409ce870-eea6-4d92-da18-d6ce1863930c"
      },
      "execution_count": null,
      "outputs": [
        {
          "output_type": "stream",
          "name": "stdout",
          "text": [
            "[ 1  2 34  6 32 14 65  7]\n"
          ]
        }
      ]
    },
    {
      "cell_type": "code",
      "source": [
        "arr=np.array([1,2,34,6,32,14,65,7])\n",
        "print(arr)"
      ],
      "metadata": {
        "colab": {
          "base_uri": "https://localhost:8080/"
        },
        "id": "YEqXwEYL2Bf7",
        "outputId": "a6313929-7937-4c95-e8f1-c3e15e623446"
      },
      "execution_count": null,
      "outputs": [
        {
          "output_type": "stream",
          "name": "stdout",
          "text": [
            "[ 1  2 34  6 32 14 65  7]\n"
          ]
        }
      ]
    },
    {
      "cell_type": "code",
      "source": [
        "print(arr[0])\n",
        "print(arr[2])"
      ],
      "metadata": {
        "colab": {
          "base_uri": "https://localhost:8080/"
        },
        "id": "Tn8LmbSd2WN7",
        "outputId": "4af865af-dd96-4ec4-c09d-7cdd417685d2"
      },
      "execution_count": null,
      "outputs": [
        {
          "output_type": "stream",
          "name": "stdout",
          "text": [
            "1\n",
            "34\n"
          ]
        }
      ]
    },
    {
      "cell_type": "markdown",
      "source": [
        "Create a 2D array (Matrix)"
      ],
      "metadata": {
        "id": "9FiDSrMS2of0"
      }
    },
    {
      "cell_type": "code",
      "source": [
        "aa=[[1,2,3,4],[4,2,3,6]]\n",
        "A=np.array(aa)\n",
        "print(A)"
      ],
      "metadata": {
        "colab": {
          "base_uri": "https://localhost:8080/"
        },
        "id": "EhXlkVNv2pG9",
        "outputId": "e6749c79-192e-4445-8cfb-e455850ebf5d"
      },
      "execution_count": null,
      "outputs": [
        {
          "output_type": "stream",
          "name": "stdout",
          "text": [
            "[[1 2 3 4]\n",
            " [4 2 3 6]]\n"
          ]
        }
      ]
    },
    {
      "cell_type": "code",
      "source": [
        "A=np.array([[1,2,3,4],[4,2,3,6]])\n",
        "print(A)\n"
      ],
      "metadata": {
        "colab": {
          "base_uri": "https://localhost:8080/"
        },
        "id": "PaIO6DDy2vqZ",
        "outputId": "7b133133-4f46-4b6e-f145-705c5e504e94"
      },
      "execution_count": null,
      "outputs": [
        {
          "output_type": "stream",
          "name": "stdout",
          "text": [
            "[[1 2 3 4]\n",
            " [4 2 3 6]]\n"
          ]
        }
      ]
    },
    {
      "cell_type": "code",
      "source": [
        "print(type(A))"
      ],
      "metadata": {
        "colab": {
          "base_uri": "https://localhost:8080/"
        },
        "id": "wr32Tgep23vt",
        "outputId": "1772fb44-91ee-4c02-81a7-16235822d5a7"
      },
      "execution_count": null,
      "outputs": [
        {
          "output_type": "stream",
          "name": "stdout",
          "text": [
            "<class 'numpy.ndarray'>\n"
          ]
        }
      ]
    },
    {
      "cell_type": "code",
      "source": [
        "print(type(arr))"
      ],
      "metadata": {
        "colab": {
          "base_uri": "https://localhost:8080/"
        },
        "id": "dZxHqB2t29UL",
        "outputId": "cf6986de-3911-4a06-d30f-e35d18488e8e"
      },
      "execution_count": null,
      "outputs": [
        {
          "output_type": "stream",
          "name": "stdout",
          "text": [
            "<class 'numpy.ndarray'>\n"
          ]
        }
      ]
    },
    {
      "cell_type": "code",
      "source": [
        "np.ndim(arr)"
      ],
      "metadata": {
        "colab": {
          "base_uri": "https://localhost:8080/"
        },
        "id": "gmYtubHW3FV-",
        "outputId": "c9c8f700-7037-47fa-f30c-5534e342912a"
      },
      "execution_count": null,
      "outputs": [
        {
          "output_type": "execute_result",
          "data": {
            "text/plain": [
              "1"
            ]
          },
          "metadata": {},
          "execution_count": 9
        }
      ]
    },
    {
      "cell_type": "code",
      "source": [
        "np.ndim(A)"
      ],
      "metadata": {
        "colab": {
          "base_uri": "https://localhost:8080/"
        },
        "id": "9KMd5wX73MQ7",
        "outputId": "bf21e9ec-e998-4889-d3b9-aeef7594d52f"
      },
      "execution_count": null,
      "outputs": [
        {
          "output_type": "execute_result",
          "data": {
            "text/plain": [
              "2"
            ]
          },
          "metadata": {},
          "execution_count": 10
        }
      ]
    },
    {
      "cell_type": "code",
      "source": [
        "print(np.size(arr))"
      ],
      "metadata": {
        "colab": {
          "base_uri": "https://localhost:8080/"
        },
        "id": "7qQD8zD43Uh0",
        "outputId": "6b758598-26e1-46fb-f0db-a158ff3ffd9f"
      },
      "execution_count": null,
      "outputs": [
        {
          "output_type": "stream",
          "name": "stdout",
          "text": [
            "8\n"
          ]
        }
      ]
    },
    {
      "cell_type": "code",
      "source": [
        "print(np.size(A))"
      ],
      "metadata": {
        "colab": {
          "base_uri": "https://localhost:8080/"
        },
        "id": "JWTuEo1l3ZQS",
        "outputId": "14ad9b48-2227-4d69-a981-e1f4ac9492b3"
      },
      "execution_count": null,
      "outputs": [
        {
          "output_type": "stream",
          "name": "stdout",
          "text": [
            "8\n"
          ]
        }
      ]
    },
    {
      "cell_type": "code",
      "source": [
        "print(np.shape(arr))"
      ],
      "metadata": {
        "colab": {
          "base_uri": "https://localhost:8080/"
        },
        "id": "ECKt-rKL3gIg",
        "outputId": "6777742e-94c9-43c3-b846-165e73121a91"
      },
      "execution_count": null,
      "outputs": [
        {
          "output_type": "stream",
          "name": "stdout",
          "text": [
            "(8,)\n"
          ]
        }
      ]
    },
    {
      "cell_type": "code",
      "source": [
        "print(np.shape(A))"
      ],
      "metadata": {
        "colab": {
          "base_uri": "https://localhost:8080/"
        },
        "id": "zGFA7wxv3mp8",
        "outputId": "811be5ab-fc3a-4d22-b560-10f0d57cd70b"
      },
      "execution_count": null,
      "outputs": [
        {
          "output_type": "stream",
          "name": "stdout",
          "text": [
            "(2, 4)\n"
          ]
        }
      ]
    },
    {
      "cell_type": "markdown",
      "source": [
        "Rows and columns of an Array"
      ],
      "metadata": {
        "id": "jVlKvOa63tHV"
      }
    },
    {
      "cell_type": "code",
      "source": [
        "A=np.array([[1,2,3],[3,4,5],[4,5,6]])\n",
        "print(A)"
      ],
      "metadata": {
        "colab": {
          "base_uri": "https://localhost:8080/"
        },
        "id": "J2ITBqEM3t65",
        "outputId": "49986057-5087-4760-8494-642ab3998c85"
      },
      "execution_count": null,
      "outputs": [
        {
          "output_type": "stream",
          "name": "stdout",
          "text": [
            "[[1 2 3]\n",
            " [3 4 5]\n",
            " [4 5 6]]\n"
          ]
        }
      ]
    },
    {
      "cell_type": "code",
      "source": [
        "print(A[0,:])\n",
        "print(A[1,:])\n",
        "print(A[2,:])"
      ],
      "metadata": {
        "colab": {
          "base_uri": "https://localhost:8080/"
        },
        "id": "2A36NX8K33BS",
        "outputId": "2e745dc1-c6d9-4de5-ab3d-2f6d2342fd3d"
      },
      "execution_count": null,
      "outputs": [
        {
          "output_type": "stream",
          "name": "stdout",
          "text": [
            "[1 2 3]\n",
            "[3 4 5]\n",
            "[4 5 6]\n"
          ]
        }
      ]
    },
    {
      "cell_type": "code",
      "source": [
        "print(A[:,0])\n",
        "print(A[:,1])\n",
        "print(A[:,2])"
      ],
      "metadata": {
        "colab": {
          "base_uri": "https://localhost:8080/"
        },
        "id": "wsZwTwuB39yw",
        "outputId": "b7033530-ca77-4334-c416-a60a5ce25f27"
      },
      "execution_count": null,
      "outputs": [
        {
          "output_type": "stream",
          "name": "stdout",
          "text": [
            "[1 3 4]\n",
            "[2 4 5]\n",
            "[3 5 6]\n"
          ]
        }
      ]
    },
    {
      "cell_type": "code",
      "source": [
        "print(A[2,1])"
      ],
      "metadata": {
        "colab": {
          "base_uri": "https://localhost:8080/"
        },
        "id": "yowwaO1W4Ckn",
        "outputId": "30070a43-231f-4e0f-e23b-cf08c5d22254"
      },
      "execution_count": null,
      "outputs": [
        {
          "output_type": "stream",
          "name": "stdout",
          "text": [
            "5\n"
          ]
        }
      ]
    },
    {
      "cell_type": "markdown",
      "source": [
        "Pandas Library"
      ],
      "metadata": {
        "id": "3hKyZFt24HDL"
      }
    },
    {
      "cell_type": "code",
      "source": [
        "import pandas as pd"
      ],
      "metadata": {
        "id": "R1jNc59g4P88"
      },
      "execution_count": null,
      "outputs": []
    },
    {
      "cell_type": "code",
      "source": [
        "Dataset={\n",
        "\"State\": ['Andhra Pradesh', 'Maharashtra', 'Karnataka', 'Kerala', 'Tamil Nadu'],\n",
        "\"Capital\": ['Hyderabad', 'Mumbai', 'Bengaluru', 'Trivandrum', 'Chennai'],\n",
        "\"Literacy %\": [89, 77, 82, 97,85],\n",
        "\"Avg High Temp(c)\": [33, 30, 29, 31, 32 ]}\n",
        "print(Dataset)"
      ],
      "metadata": {
        "colab": {
          "base_uri": "https://localhost:8080/"
        },
        "id": "jc2KLbC64hR5",
        "outputId": "e1efc560-3258-4ac6-d09a-456962fdb082"
      },
      "execution_count": null,
      "outputs": [
        {
          "output_type": "stream",
          "name": "stdout",
          "text": [
            "{'State': ['Andhra Pradesh', 'Maharashtra', 'Karnataka', 'Kerala', 'Tamil Nadu'], 'Capital': ['Hyderabad', 'Mumbai', 'Bengaluru', 'Trivandrum', 'Chennai'], 'Literacy %': [89, 77, 82, 97, 85], 'Avg High Temp(c)': [33, 30, 29, 31, 32]}\n"
          ]
        }
      ]
    },
    {
      "cell_type": "code",
      "source": [
        "df = pd.DataFrame(Dataset)\n",
        "print(df)"
      ],
      "metadata": {
        "colab": {
          "base_uri": "https://localhost:8080/"
        },
        "id": "Bt2e64lN4qCs",
        "outputId": "b391ad5e-e0a4-4f45-91b2-26b8563a3c36"
      },
      "execution_count": null,
      "outputs": [
        {
          "output_type": "stream",
          "name": "stdout",
          "text": [
            "            State     Capital  Literacy %  Avg High Temp(c)\n",
            "0  Andhra Pradesh   Hyderabad          89                33\n",
            "1     Maharashtra      Mumbai          77                30\n",
            "2       Karnataka   Bengaluru          82                29\n",
            "3          Kerala  Trivandrum          97                31\n",
            "4      Tamil Nadu     Chennai          85                32\n"
          ]
        }
      ]
    },
    {
      "cell_type": "code",
      "source": [
        "df = pd.DataFrame({\n",
        "\"State\": ['Andhra Pradesh', 'Maharashtra', 'Karnataka', 'Kerala', 'Tamil Nadu'],\n",
        "\"Capital\": ['Hyderabad', 'Mumbai', 'Bengaluru', 'Trivandrum', 'Chennai'],\n",
        "\"Literacy %\": [89, 77, 82, 97,85],\n",
        "\"Avg High Temp(c)\": [33, 30, 29, 31, 32 ]\n",
        "})\n",
        "print(df)"
      ],
      "metadata": {
        "colab": {
          "base_uri": "https://localhost:8080/"
        },
        "id": "ZrtVJxBD41z7",
        "outputId": "d28ae8ed-d2c7-4932-ed39-789174871d4d"
      },
      "execution_count": null,
      "outputs": [
        {
          "output_type": "stream",
          "name": "stdout",
          "text": [
            "            State     Capital  Literacy %  Avg High Temp(c)\n",
            "0  Andhra Pradesh   Hyderabad          89                33\n",
            "1     Maharashtra      Mumbai          77                30\n",
            "2       Karnataka   Bengaluru          82                29\n",
            "3          Kerala  Trivandrum          97                31\n",
            "4      Tamil Nadu     Chennai          85                32\n"
          ]
        }
      ]
    },
    {
      "cell_type": "markdown",
      "source": [
        "In the above Dataframe, the column labels are State, Capital, Literacy %, Avg High Temp and the row labels are\n",
        "0,1,2,3,4"
      ],
      "metadata": {
        "id": "CquPyGO-5Pj4"
      }
    },
    {
      "cell_type": "code",
      "source": [
        "print(df.head(2))"
      ],
      "metadata": {
        "colab": {
          "base_uri": "https://localhost:8080/"
        },
        "id": "NqCGMc915Qno",
        "outputId": "21421aa6-880e-4302-f33e-91b58bc65bf0"
      },
      "execution_count": null,
      "outputs": [
        {
          "output_type": "stream",
          "name": "stdout",
          "text": [
            "            State    Capital  Literacy %  Avg High Temp(c)\n",
            "0  Andhra Pradesh  Hyderabad          89                33\n",
            "1     Maharashtra     Mumbai          77                30\n"
          ]
        }
      ]
    },
    {
      "cell_type": "code",
      "source": [
        "print(df.tail(3))"
      ],
      "metadata": {
        "colab": {
          "base_uri": "https://localhost:8080/"
        },
        "id": "H3VBqKa65aF4",
        "outputId": "cd64d478-c5a1-41b0-b35d-edef57e0b81c"
      },
      "execution_count": null,
      "outputs": [
        {
          "output_type": "stream",
          "name": "stdout",
          "text": [
            "        State     Capital  Literacy %  Avg High Temp(c)\n",
            "2   Karnataka   Bengaluru          82                29\n",
            "3      Kerala  Trivandrum          97                31\n",
            "4  Tamil Nadu     Chennai          85                32\n"
          ]
        }
      ]
    },
    {
      "cell_type": "code",
      "source": [
        "print(df.dtypes)\n"
      ],
      "metadata": {
        "colab": {
          "base_uri": "https://localhost:8080/"
        },
        "id": "WuNf084O5esZ",
        "outputId": "ed6f2c21-cca7-4a0b-f616-38bbd8705deb"
      },
      "execution_count": null,
      "outputs": [
        {
          "output_type": "stream",
          "name": "stdout",
          "text": [
            "State               object\n",
            "Capital             object\n",
            "Literacy %           int64\n",
            "Avg High Temp(c)     int64\n",
            "dtype: object\n"
          ]
        }
      ]
    },
    {
      "cell_type": "code",
      "source": [
        "print(df.sort_values('Literacy %', ascending=False))"
      ],
      "metadata": {
        "colab": {
          "base_uri": "https://localhost:8080/"
        },
        "id": "P5lAJH8m5kZG",
        "outputId": "be4fad21-b331-494e-8eac-bb101a480820"
      },
      "execution_count": null,
      "outputs": [
        {
          "output_type": "stream",
          "name": "stdout",
          "text": [
            "            State     Capital  Literacy %  Avg High Temp(c)\n",
            "3          Kerala  Trivandrum          97                31\n",
            "0  Andhra Pradesh   Hyderabad          89                33\n",
            "4      Tamil Nadu     Chennai          85                32\n",
            "2       Karnataka   Bengaluru          82                29\n",
            "1     Maharashtra      Mumbai          77                30\n"
          ]
        }
      ]
    },
    {
      "cell_type": "code",
      "source": [
        "print(df[['Capital']])"
      ],
      "metadata": {
        "colab": {
          "base_uri": "https://localhost:8080/"
        },
        "id": "YLdemsc05ru_",
        "outputId": "9d22bf41-e718-4e2c-dcc4-7c376c6df21f"
      },
      "execution_count": null,
      "outputs": [
        {
          "output_type": "stream",
          "name": "stdout",
          "text": [
            "      Capital\n",
            "0   Hyderabad\n",
            "1      Mumbai\n",
            "2   Bengaluru\n",
            "3  Trivandrum\n",
            "4     Chennai\n"
          ]
        }
      ]
    },
    {
      "cell_type": "code",
      "source": [
        "print(df[['State', 'Capital']])"
      ],
      "metadata": {
        "colab": {
          "base_uri": "https://localhost:8080/"
        },
        "id": "xI5XNgP55xT5",
        "outputId": "9cc34f75-d5da-4672-d2ba-cb0369bc1823"
      },
      "execution_count": null,
      "outputs": [
        {
          "output_type": "stream",
          "name": "stdout",
          "text": [
            "            State     Capital\n",
            "0  Andhra Pradesh   Hyderabad\n",
            "1     Maharashtra      Mumbai\n",
            "2       Karnataka   Bengaluru\n",
            "3          Kerala  Trivandrum\n",
            "4      Tamil Nadu     Chennai\n"
          ]
        }
      ]
    },
    {
      "cell_type": "code",
      "source": [
        "print(df.loc[2])"
      ],
      "metadata": {
        "colab": {
          "base_uri": "https://localhost:8080/"
        },
        "id": "PDeOd69a5_oz",
        "outputId": "6ecbf754-7a85-420c-8f10-c822041ad4c0"
      },
      "execution_count": null,
      "outputs": [
        {
          "output_type": "stream",
          "name": "stdout",
          "text": [
            "State               Karnataka\n",
            "Capital             Bengaluru\n",
            "Literacy %                 82\n",
            "Avg High Temp(c)           29\n",
            "Name: 2, dtype: object\n"
          ]
        }
      ]
    },
    {
      "cell_type": "code",
      "source": [
        "print(df.iloc[2])"
      ],
      "metadata": {
        "colab": {
          "base_uri": "https://localhost:8080/"
        },
        "id": "y2rvGMx86hKv",
        "outputId": "19822b4c-cf58-4d19-fd94-38fa786f2189"
      },
      "execution_count": null,
      "outputs": [
        {
          "output_type": "stream",
          "name": "stdout",
          "text": [
            "State               Karnataka\n",
            "Capital             Bengaluru\n",
            "Literacy %                 82\n",
            "Avg High Temp(c)           29\n",
            "Name: 2, dtype: object\n"
          ]
        }
      ]
    },
    {
      "cell_type": "code",
      "source": [
        " print(df.iloc[1,2])"
      ],
      "metadata": {
        "colab": {
          "base_uri": "https://localhost:8080/"
        },
        "id": "RIJmOUMc6lwr",
        "outputId": "a0fef45f-79ab-46d8-d833-c7d9633ddd44"
      },
      "execution_count": null,
      "outputs": [
        {
          "output_type": "stream",
          "name": "stdout",
          "text": [
            "77\n"
          ]
        }
      ]
    },
    {
      "cell_type": "code",
      "source": [
        " print(df.loc[1,'Literacy %'])"
      ],
      "metadata": {
        "colab": {
          "base_uri": "https://localhost:8080/"
        },
        "id": "XzoBU2Zl6pE5",
        "outputId": "68449523-94d5-4285-c8fe-98bc3f416eed"
      },
      "execution_count": null,
      "outputs": [
        {
          "output_type": "stream",
          "name": "stdout",
          "text": [
            "77\n"
          ]
        }
      ]
    },
    {
      "cell_type": "markdown",
      "source": [
        " Form a Discrete Frequency Distribution from a data"
      ],
      "metadata": {
        "id": "rWIHeguB6sfw"
      }
    },
    {
      "cell_type": "code",
      "source": [
        " a={\"Distance\":[15, 13, 16, 16, 15, 16, 17, 14, 15, 16, 16,17, 14, 17, 17, 16, 14, 15, 16, 17, 14, 16, 15, 17, 1]}"
      ],
      "metadata": {
        "id": "qRKQ6ANt6tgm"
      },
      "execution_count": null,
      "outputs": []
    },
    {
      "cell_type": "code",
      "source": [
        " import pandas as pd\n",
        " df=pd.DataFrame(a)\n",
        " print(df)\n",
        " print('The number of elements in the column is =',df['Distance'].size)"
      ],
      "metadata": {
        "colab": {
          "base_uri": "https://localhost:8080/"
        },
        "id": "858AduV-7GM4",
        "outputId": "4eefd19a-aab1-49a4-c936-55ba0f923b61"
      },
      "execution_count": null,
      "outputs": [
        {
          "output_type": "stream",
          "name": "stdout",
          "text": [
            "    Distance\n",
            "0         15\n",
            "1         13\n",
            "2         16\n",
            "3         16\n",
            "4         15\n",
            "5         16\n",
            "6         17\n",
            "7         14\n",
            "8         15\n",
            "9         16\n",
            "10        16\n",
            "11        17\n",
            "12        14\n",
            "13        17\n",
            "14        17\n",
            "15        16\n",
            "16        14\n",
            "17        15\n",
            "18        16\n",
            "19        17\n",
            "20        14\n",
            "21        16\n",
            "22        15\n",
            "23        17\n",
            "24         1\n",
            "The number of elements in the column is = 25\n"
          ]
        }
      ]
    },
    {
      "cell_type": "code",
      "source": [
        "df2=pd.crosstab(index=df['Distance'],columns='Frequency')\n",
        "print(df2)"
      ],
      "metadata": {
        "colab": {
          "base_uri": "https://localhost:8080/"
        },
        "id": "Eu9QM5eL7MLH",
        "outputId": "35a8c1bb-0433-4512-ec88-c8f089ded47c"
      },
      "execution_count": null,
      "outputs": [
        {
          "output_type": "stream",
          "name": "stdout",
          "text": [
            "col_0     Frequency\n",
            "Distance           \n",
            "1                 1\n",
            "13                1\n",
            "14                4\n",
            "15                5\n",
            "16                8\n",
            "17                6\n"
          ]
        }
      ]
    },
    {
      "cell_type": "code",
      "source": [
        " print(df2['Frequency'].sum())"
      ],
      "metadata": {
        "colab": {
          "base_uri": "https://localhost:8080/"
        },
        "id": "M6e4ybuR7gQW",
        "outputId": "330ec9ef-198d-4292-ade8-69c43871f4f0"
      },
      "execution_count": null,
      "outputs": [
        {
          "output_type": "stream",
          "name": "stdout",
          "text": [
            "25\n"
          ]
        }
      ]
    },
    {
      "cell_type": "code",
      "source": [
        " df2['Relative_Frequencies']=df2['Frequency']/df2['Frequency'].sum()\n",
        " df2['Percentage']=df2['Frequency']/df2['Frequency'].sum()*100\n",
        " print(df2)"
      ],
      "metadata": {
        "colab": {
          "base_uri": "https://localhost:8080/"
        },
        "id": "pst0pOEX7kB9",
        "outputId": "244610b5-b358-47c4-b002-ca8d54394157"
      },
      "execution_count": null,
      "outputs": [
        {
          "output_type": "stream",
          "name": "stdout",
          "text": [
            "col_0     Frequency  Relative_Frequencies  Percentage\n",
            "Distance                                             \n",
            "1                 1                  0.04         4.0\n",
            "13                1                  0.04         4.0\n",
            "14                4                  0.16        16.0\n",
            "15                5                  0.20        20.0\n",
            "16                8                  0.32        32.0\n",
            "17                6                  0.24        24.0\n"
          ]
        }
      ]
    },
    {
      "cell_type": "markdown",
      "source": [
        " Add a new row with label name as \"total\" for the sum of the columns data"
      ],
      "metadata": {
        "id": "5F_FDnq67qpz"
      }
    },
    {
      "cell_type": "code",
      "source": [
        " df2.loc['Total']=df2.sum()\n",
        " print(df2)"
      ],
      "metadata": {
        "colab": {
          "base_uri": "https://localhost:8080/"
        },
        "id": "LsTPN3s07wIm",
        "outputId": "8e7f1a72-cf58-415d-d682-975b137ee18e"
      },
      "execution_count": null,
      "outputs": [
        {
          "output_type": "stream",
          "name": "stdout",
          "text": [
            "col_0     Frequency  Relative_Frequencies  Percentage\n",
            "Distance                                             \n",
            "1               1.0                  0.04         4.0\n",
            "13              1.0                  0.04         4.0\n",
            "14              4.0                  0.16        16.0\n",
            "15              5.0                  0.20        20.0\n",
            "16              8.0                  0.32        32.0\n",
            "17              6.0                  0.24        24.0\n",
            "Total          25.0                  1.00       100.0\n"
          ]
        }
      ]
    },
    {
      "cell_type": "markdown",
      "source": [
        " Form a Continuous Frequency Distribution from a Data"
      ],
      "metadata": {
        "id": "8kNYFO9A75vH"
      }
    },
    {
      "cell_type": "code",
      "source": [
        " import numpy as np\n",
        " import pandas as pd\n"
      ],
      "metadata": {
        "id": "aLrW9Wpi77n8"
      },
      "execution_count": null,
      "outputs": []
    },
    {
      "cell_type": "code",
      "source": [
        " data=[328, 470, 405, 375, 298, 326, 276, 362, 410, 255, 391, 370, 455, 229, 300, 183,\n",
        " 283, 366, 400, 495, 215, 157, 374, 306, 280, 409, 321, 269, 398, 200]\n",
        " diction={\"Score\":data}\n",
        " df=pd.DataFrame(diction)\n",
        " print(df)"
      ],
      "metadata": {
        "colab": {
          "base_uri": "https://localhost:8080/"
        },
        "id": "fi4yhlDE8D0n",
        "outputId": "e404ff06-d1b1-4f46-a015-8e862f6a2068"
      },
      "execution_count": null,
      "outputs": [
        {
          "output_type": "stream",
          "name": "stdout",
          "text": [
            "    Score\n",
            "0     328\n",
            "1     470\n",
            "2     405\n",
            "3     375\n",
            "4     298\n",
            "5     326\n",
            "6     276\n",
            "7     362\n",
            "8     410\n",
            "9     255\n",
            "10    391\n",
            "11    370\n",
            "12    455\n",
            "13    229\n",
            "14    300\n",
            "15    183\n",
            "16    283\n",
            "17    366\n",
            "18    400\n",
            "19    495\n",
            "20    215\n",
            "21    157\n",
            "22    374\n",
            "23    306\n",
            "24    280\n",
            "25    409\n",
            "26    321\n",
            "27    269\n",
            "28    398\n",
            "29    200\n"
          ]
        }
      ]
    },
    {
      "cell_type": "code",
      "source": [
        " A=min(data)\n",
        " print('The lowest value is ',A)\n",
        " B=max(data)\n",
        " print('The highestest value is ',B)\n",
        " N=round((B-A)/50)\n",
        " N"
      ],
      "metadata": {
        "colab": {
          "base_uri": "https://localhost:8080/"
        },
        "id": "HVPIA8X18Pm5",
        "outputId": "91ab5705-db6a-45a4-c6bb-f1b7eab8bd4e"
      },
      "execution_count": null,
      "outputs": [
        {
          "output_type": "stream",
          "name": "stdout",
          "text": [
            "The lowest value is  157\n",
            "The highestest value is  495\n"
          ]
        },
        {
          "output_type": "execute_result",
          "data": {
            "text/plain": [
              "7"
            ]
          },
          "metadata": {},
          "execution_count": 44
        }
      ]
    },
    {
      "cell_type": "code",
      "source": [
        " bins=np.linspace(150,500,N+1)\n",
        " print(bins)"
      ],
      "metadata": {
        "colab": {
          "base_uri": "https://localhost:8080/"
        },
        "id": "A8fUvpIj8WvT",
        "outputId": "6404df59-6fd7-4170-cabb-d8b127a1bd29"
      },
      "execution_count": null,
      "outputs": [
        {
          "output_type": "stream",
          "name": "stdout",
          "text": [
            "[150. 200. 250. 300. 350. 400. 450. 500.]\n"
          ]
        }
      ]
    },
    {
      "cell_type": "code",
      "source": [
        " df['Class Intervals']=pd.cut(df['Score'],bins=bins,right=False,)\n",
        " print(df)"
      ],
      "metadata": {
        "colab": {
          "base_uri": "https://localhost:8080/"
        },
        "id": "3MdBrw938gc9",
        "outputId": "53bba700-6748-45df-a1a6-b5ee72a89fe0"
      },
      "execution_count": null,
      "outputs": [
        {
          "output_type": "stream",
          "name": "stdout",
          "text": [
            "    Score Class Intervals\n",
            "0     328  [300.0, 350.0)\n",
            "1     470  [450.0, 500.0)\n",
            "2     405  [400.0, 450.0)\n",
            "3     375  [350.0, 400.0)\n",
            "4     298  [250.0, 300.0)\n",
            "5     326  [300.0, 350.0)\n",
            "6     276  [250.0, 300.0)\n",
            "7     362  [350.0, 400.0)\n",
            "8     410  [400.0, 450.0)\n",
            "9     255  [250.0, 300.0)\n",
            "10    391  [350.0, 400.0)\n",
            "11    370  [350.0, 400.0)\n",
            "12    455  [450.0, 500.0)\n",
            "13    229  [200.0, 250.0)\n",
            "14    300  [300.0, 350.0)\n",
            "15    183  [150.0, 200.0)\n",
            "16    283  [250.0, 300.0)\n",
            "17    366  [350.0, 400.0)\n",
            "18    400  [400.0, 450.0)\n",
            "19    495  [450.0, 500.0)\n",
            "20    215  [200.0, 250.0)\n",
            "21    157  [150.0, 200.0)\n",
            "22    374  [350.0, 400.0)\n",
            "23    306  [300.0, 350.0)\n",
            "24    280  [250.0, 300.0)\n",
            "25    409  [400.0, 450.0)\n",
            "26    321  [300.0, 350.0)\n",
            "27    269  [250.0, 300.0)\n",
            "28    398  [350.0, 400.0)\n",
            "29    200  [200.0, 250.0)\n"
          ]
        }
      ]
    },
    {
      "cell_type": "code",
      "source": [
        " table2=pd.crosstab(index=df['Class Intervals'],columns='Frequency')"
      ],
      "metadata": {
        "id": "GUWKNgYF8qXE"
      },
      "execution_count": null,
      "outputs": []
    },
    {
      "cell_type": "code",
      "source": [
        "table2"
      ],
      "metadata": {
        "colab": {
          "base_uri": "https://localhost:8080/",
          "height": 300
        },
        "id": "uaWwhuuR8srh",
        "outputId": "d9cf65b6-891d-463a-eecb-1621bc93d4f9"
      },
      "execution_count": null,
      "outputs": [
        {
          "output_type": "execute_result",
          "data": {
            "text/plain": [
              "col_0            Frequency\n",
              "Class Intervals           \n",
              "[150.0, 200.0)           2\n",
              "[200.0, 250.0)           3\n",
              "[250.0, 300.0)           6\n",
              "[300.0, 350.0)           5\n",
              "[350.0, 400.0)           7\n",
              "[400.0, 450.0)           4\n",
              "[450.0, 500.0)           3"
            ],
            "text/html": [
              "\n",
              "  <div id=\"df-0c08b53b-e497-4f62-83de-7f37053d4fa7\" class=\"colab-df-container\">\n",
              "    <div>\n",
              "<style scoped>\n",
              "    .dataframe tbody tr th:only-of-type {\n",
              "        vertical-align: middle;\n",
              "    }\n",
              "\n",
              "    .dataframe tbody tr th {\n",
              "        vertical-align: top;\n",
              "    }\n",
              "\n",
              "    .dataframe thead th {\n",
              "        text-align: right;\n",
              "    }\n",
              "</style>\n",
              "<table border=\"1\" class=\"dataframe\">\n",
              "  <thead>\n",
              "    <tr style=\"text-align: right;\">\n",
              "      <th>col_0</th>\n",
              "      <th>Frequency</th>\n",
              "    </tr>\n",
              "    <tr>\n",
              "      <th>Class Intervals</th>\n",
              "      <th></th>\n",
              "    </tr>\n",
              "  </thead>\n",
              "  <tbody>\n",
              "    <tr>\n",
              "      <th>[150.0, 200.0)</th>\n",
              "      <td>2</td>\n",
              "    </tr>\n",
              "    <tr>\n",
              "      <th>[200.0, 250.0)</th>\n",
              "      <td>3</td>\n",
              "    </tr>\n",
              "    <tr>\n",
              "      <th>[250.0, 300.0)</th>\n",
              "      <td>6</td>\n",
              "    </tr>\n",
              "    <tr>\n",
              "      <th>[300.0, 350.0)</th>\n",
              "      <td>5</td>\n",
              "    </tr>\n",
              "    <tr>\n",
              "      <th>[350.0, 400.0)</th>\n",
              "      <td>7</td>\n",
              "    </tr>\n",
              "    <tr>\n",
              "      <th>[400.0, 450.0)</th>\n",
              "      <td>4</td>\n",
              "    </tr>\n",
              "    <tr>\n",
              "      <th>[450.0, 500.0)</th>\n",
              "      <td>3</td>\n",
              "    </tr>\n",
              "  </tbody>\n",
              "</table>\n",
              "</div>\n",
              "    <div class=\"colab-df-buttons\">\n",
              "\n",
              "  <div class=\"colab-df-container\">\n",
              "    <button class=\"colab-df-convert\" onclick=\"convertToInteractive('df-0c08b53b-e497-4f62-83de-7f37053d4fa7')\"\n",
              "            title=\"Convert this dataframe to an interactive table.\"\n",
              "            style=\"display:none;\">\n",
              "\n",
              "  <svg xmlns=\"http://www.w3.org/2000/svg\" height=\"24px\" viewBox=\"0 -960 960 960\">\n",
              "    <path d=\"M120-120v-720h720v720H120Zm60-500h600v-160H180v160Zm220 220h160v-160H400v160Zm0 220h160v-160H400v160ZM180-400h160v-160H180v160Zm440 0h160v-160H620v160ZM180-180h160v-160H180v160Zm440 0h160v-160H620v160Z\"/>\n",
              "  </svg>\n",
              "    </button>\n",
              "\n",
              "  <style>\n",
              "    .colab-df-container {\n",
              "      display:flex;\n",
              "      gap: 12px;\n",
              "    }\n",
              "\n",
              "    .colab-df-convert {\n",
              "      background-color: #E8F0FE;\n",
              "      border: none;\n",
              "      border-radius: 50%;\n",
              "      cursor: pointer;\n",
              "      display: none;\n",
              "      fill: #1967D2;\n",
              "      height: 32px;\n",
              "      padding: 0 0 0 0;\n",
              "      width: 32px;\n",
              "    }\n",
              "\n",
              "    .colab-df-convert:hover {\n",
              "      background-color: #E2EBFA;\n",
              "      box-shadow: 0px 1px 2px rgba(60, 64, 67, 0.3), 0px 1px 3px 1px rgba(60, 64, 67, 0.15);\n",
              "      fill: #174EA6;\n",
              "    }\n",
              "\n",
              "    .colab-df-buttons div {\n",
              "      margin-bottom: 4px;\n",
              "    }\n",
              "\n",
              "    [theme=dark] .colab-df-convert {\n",
              "      background-color: #3B4455;\n",
              "      fill: #D2E3FC;\n",
              "    }\n",
              "\n",
              "    [theme=dark] .colab-df-convert:hover {\n",
              "      background-color: #434B5C;\n",
              "      box-shadow: 0px 1px 3px 1px rgba(0, 0, 0, 0.15);\n",
              "      filter: drop-shadow(0px 1px 2px rgba(0, 0, 0, 0.3));\n",
              "      fill: #FFFFFF;\n",
              "    }\n",
              "  </style>\n",
              "\n",
              "    <script>\n",
              "      const buttonEl =\n",
              "        document.querySelector('#df-0c08b53b-e497-4f62-83de-7f37053d4fa7 button.colab-df-convert');\n",
              "      buttonEl.style.display =\n",
              "        google.colab.kernel.accessAllowed ? 'block' : 'none';\n",
              "\n",
              "      async function convertToInteractive(key) {\n",
              "        const element = document.querySelector('#df-0c08b53b-e497-4f62-83de-7f37053d4fa7');\n",
              "        const dataTable =\n",
              "          await google.colab.kernel.invokeFunction('convertToInteractive',\n",
              "                                                    [key], {});\n",
              "        if (!dataTable) return;\n",
              "\n",
              "        const docLinkHtml = 'Like what you see? Visit the ' +\n",
              "          '<a target=\"_blank\" href=https://colab.research.google.com/notebooks/data_table.ipynb>data table notebook</a>'\n",
              "          + ' to learn more about interactive tables.';\n",
              "        element.innerHTML = '';\n",
              "        dataTable['output_type'] = 'display_data';\n",
              "        await google.colab.output.renderOutput(dataTable, element);\n",
              "        const docLink = document.createElement('div');\n",
              "        docLink.innerHTML = docLinkHtml;\n",
              "        element.appendChild(docLink);\n",
              "      }\n",
              "    </script>\n",
              "  </div>\n",
              "\n",
              "\n",
              "<div id=\"df-dd7c5a81-ab72-4fe2-b61e-c7ee72b83f95\">\n",
              "  <button class=\"colab-df-quickchart\" onclick=\"quickchart('df-dd7c5a81-ab72-4fe2-b61e-c7ee72b83f95')\"\n",
              "            title=\"Suggest charts\"\n",
              "            style=\"display:none;\">\n",
              "\n",
              "<svg xmlns=\"http://www.w3.org/2000/svg\" height=\"24px\"viewBox=\"0 0 24 24\"\n",
              "     width=\"24px\">\n",
              "    <g>\n",
              "        <path d=\"M19 3H5c-1.1 0-2 .9-2 2v14c0 1.1.9 2 2 2h14c1.1 0 2-.9 2-2V5c0-1.1-.9-2-2-2zM9 17H7v-7h2v7zm4 0h-2V7h2v10zm4 0h-2v-4h2v4z\"/>\n",
              "    </g>\n",
              "</svg>\n",
              "  </button>\n",
              "\n",
              "<style>\n",
              "  .colab-df-quickchart {\n",
              "      --bg-color: #E8F0FE;\n",
              "      --fill-color: #1967D2;\n",
              "      --hover-bg-color: #E2EBFA;\n",
              "      --hover-fill-color: #174EA6;\n",
              "      --disabled-fill-color: #AAA;\n",
              "      --disabled-bg-color: #DDD;\n",
              "  }\n",
              "\n",
              "  [theme=dark] .colab-df-quickchart {\n",
              "      --bg-color: #3B4455;\n",
              "      --fill-color: #D2E3FC;\n",
              "      --hover-bg-color: #434B5C;\n",
              "      --hover-fill-color: #FFFFFF;\n",
              "      --disabled-bg-color: #3B4455;\n",
              "      --disabled-fill-color: #666;\n",
              "  }\n",
              "\n",
              "  .colab-df-quickchart {\n",
              "    background-color: var(--bg-color);\n",
              "    border: none;\n",
              "    border-radius: 50%;\n",
              "    cursor: pointer;\n",
              "    display: none;\n",
              "    fill: var(--fill-color);\n",
              "    height: 32px;\n",
              "    padding: 0;\n",
              "    width: 32px;\n",
              "  }\n",
              "\n",
              "  .colab-df-quickchart:hover {\n",
              "    background-color: var(--hover-bg-color);\n",
              "    box-shadow: 0 1px 2px rgba(60, 64, 67, 0.3), 0 1px 3px 1px rgba(60, 64, 67, 0.15);\n",
              "    fill: var(--button-hover-fill-color);\n",
              "  }\n",
              "\n",
              "  .colab-df-quickchart-complete:disabled,\n",
              "  .colab-df-quickchart-complete:disabled:hover {\n",
              "    background-color: var(--disabled-bg-color);\n",
              "    fill: var(--disabled-fill-color);\n",
              "    box-shadow: none;\n",
              "  }\n",
              "\n",
              "  .colab-df-spinner {\n",
              "    border: 2px solid var(--fill-color);\n",
              "    border-color: transparent;\n",
              "    border-bottom-color: var(--fill-color);\n",
              "    animation:\n",
              "      spin 1s steps(1) infinite;\n",
              "  }\n",
              "\n",
              "  @keyframes spin {\n",
              "    0% {\n",
              "      border-color: transparent;\n",
              "      border-bottom-color: var(--fill-color);\n",
              "      border-left-color: var(--fill-color);\n",
              "    }\n",
              "    20% {\n",
              "      border-color: transparent;\n",
              "      border-left-color: var(--fill-color);\n",
              "      border-top-color: var(--fill-color);\n",
              "    }\n",
              "    30% {\n",
              "      border-color: transparent;\n",
              "      border-left-color: var(--fill-color);\n",
              "      border-top-color: var(--fill-color);\n",
              "      border-right-color: var(--fill-color);\n",
              "    }\n",
              "    40% {\n",
              "      border-color: transparent;\n",
              "      border-right-color: var(--fill-color);\n",
              "      border-top-color: var(--fill-color);\n",
              "    }\n",
              "    60% {\n",
              "      border-color: transparent;\n",
              "      border-right-color: var(--fill-color);\n",
              "    }\n",
              "    80% {\n",
              "      border-color: transparent;\n",
              "      border-right-color: var(--fill-color);\n",
              "      border-bottom-color: var(--fill-color);\n",
              "    }\n",
              "    90% {\n",
              "      border-color: transparent;\n",
              "      border-bottom-color: var(--fill-color);\n",
              "    }\n",
              "  }\n",
              "</style>\n",
              "\n",
              "  <script>\n",
              "    async function quickchart(key) {\n",
              "      const quickchartButtonEl =\n",
              "        document.querySelector('#' + key + ' button');\n",
              "      quickchartButtonEl.disabled = true;  // To prevent multiple clicks.\n",
              "      quickchartButtonEl.classList.add('colab-df-spinner');\n",
              "      try {\n",
              "        const charts = await google.colab.kernel.invokeFunction(\n",
              "            'suggestCharts', [key], {});\n",
              "      } catch (error) {\n",
              "        console.error('Error during call to suggestCharts:', error);\n",
              "      }\n",
              "      quickchartButtonEl.classList.remove('colab-df-spinner');\n",
              "      quickchartButtonEl.classList.add('colab-df-quickchart-complete');\n",
              "    }\n",
              "    (() => {\n",
              "      let quickchartButtonEl =\n",
              "        document.querySelector('#df-dd7c5a81-ab72-4fe2-b61e-c7ee72b83f95 button');\n",
              "      quickchartButtonEl.style.display =\n",
              "        google.colab.kernel.accessAllowed ? 'block' : 'none';\n",
              "    })();\n",
              "  </script>\n",
              "</div>\n",
              "\n",
              "  <div id=\"id_eadb3ff7-3e42-4fda-963e-8857778f8e30\">\n",
              "    <style>\n",
              "      .colab-df-generate {\n",
              "        background-color: #E8F0FE;\n",
              "        border: none;\n",
              "        border-radius: 50%;\n",
              "        cursor: pointer;\n",
              "        display: none;\n",
              "        fill: #1967D2;\n",
              "        height: 32px;\n",
              "        padding: 0 0 0 0;\n",
              "        width: 32px;\n",
              "      }\n",
              "\n",
              "      .colab-df-generate:hover {\n",
              "        background-color: #E2EBFA;\n",
              "        box-shadow: 0px 1px 2px rgba(60, 64, 67, 0.3), 0px 1px 3px 1px rgba(60, 64, 67, 0.15);\n",
              "        fill: #174EA6;\n",
              "      }\n",
              "\n",
              "      [theme=dark] .colab-df-generate {\n",
              "        background-color: #3B4455;\n",
              "        fill: #D2E3FC;\n",
              "      }\n",
              "\n",
              "      [theme=dark] .colab-df-generate:hover {\n",
              "        background-color: #434B5C;\n",
              "        box-shadow: 0px 1px 3px 1px rgba(0, 0, 0, 0.15);\n",
              "        filter: drop-shadow(0px 1px 2px rgba(0, 0, 0, 0.3));\n",
              "        fill: #FFFFFF;\n",
              "      }\n",
              "    </style>\n",
              "    <button class=\"colab-df-generate\" onclick=\"generateWithVariable('table2')\"\n",
              "            title=\"Generate code using this dataframe.\"\n",
              "            style=\"display:none;\">\n",
              "\n",
              "  <svg xmlns=\"http://www.w3.org/2000/svg\" height=\"24px\"viewBox=\"0 0 24 24\"\n",
              "       width=\"24px\">\n",
              "    <path d=\"M7,19H8.4L18.45,9,17,7.55,7,17.6ZM5,21V16.75L18.45,3.32a2,2,0,0,1,2.83,0l1.4,1.43a1.91,1.91,0,0,1,.58,1.4,1.91,1.91,0,0,1-.58,1.4L9.25,21ZM18.45,9,17,7.55Zm-12,3A5.31,5.31,0,0,0,4.9,8.1,5.31,5.31,0,0,0,1,6.5,5.31,5.31,0,0,0,4.9,4.9,5.31,5.31,0,0,0,6.5,1,5.31,5.31,0,0,0,8.1,4.9,5.31,5.31,0,0,0,12,6.5,5.46,5.46,0,0,0,6.5,12Z\"/>\n",
              "  </svg>\n",
              "    </button>\n",
              "    <script>\n",
              "      (() => {\n",
              "      const buttonEl =\n",
              "        document.querySelector('#id_eadb3ff7-3e42-4fda-963e-8857778f8e30 button.colab-df-generate');\n",
              "      buttonEl.style.display =\n",
              "        google.colab.kernel.accessAllowed ? 'block' : 'none';\n",
              "\n",
              "      buttonEl.onclick = () => {\n",
              "        google.colab.notebook.generateWithVariable('table2');\n",
              "      }\n",
              "      })();\n",
              "    </script>\n",
              "  </div>\n",
              "\n",
              "    </div>\n",
              "  </div>\n"
            ],
            "application/vnd.google.colaboratory.intrinsic+json": {
              "type": "dataframe",
              "variable_name": "table2",
              "summary": "{\n  \"name\": \"table2\",\n  \"rows\": 7,\n  \"fields\": [\n    {\n      \"column\": \"Class Intervals\",\n      \"properties\": {\n        \"dtype\": \"category\",\n        \"num_unique_values\": 7,\n        \"samples\": [\n          \"[150.0, 200.0)\",\n          \"[200.0, 250.0)\",\n          \"[400.0, 450.0)\"\n        ],\n        \"semantic_type\": \"\",\n        \"description\": \"\"\n      }\n    },\n    {\n      \"column\": \"Frequency\",\n      \"properties\": {\n        \"dtype\": \"number\",\n        \"std\": 1,\n        \"min\": 2,\n        \"max\": 7,\n        \"num_unique_values\": 6,\n        \"samples\": [\n          2,\n          3,\n          4\n        ],\n        \"semantic_type\": \"\",\n        \"description\": \"\"\n      }\n    }\n  ]\n}"
            }
          },
          "metadata": {},
          "execution_count": 49
        }
      ]
    }
  ]
}