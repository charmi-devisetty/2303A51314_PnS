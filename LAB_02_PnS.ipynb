{
  "nbformat": 4,
  "nbformat_minor": 0,
  "metadata": {
    "colab": {
      "provenance": [],
      "authorship_tag": "ABX9TyMNF9G8cIV2IE4TG3jh6X5K",
      "include_colab_link": true
    },
    "kernelspec": {
      "name": "python3",
      "display_name": "Python 3"
    },
    "language_info": {
      "name": "python"
    }
  },
  "cells": [
    {
      "cell_type": "markdown",
      "metadata": {
        "id": "view-in-github",
        "colab_type": "text"
      },
      "source": [
        "<a href=\"https://colab.research.google.com/github/charmi-devisetty/2303A51314_PnS/blob/main/LAB_02_PnS.ipynb\" target=\"_parent\"><img src=\"https://colab.research.google.com/assets/colab-badge.svg\" alt=\"Open In Colab\"/></a>"
      ]
    },
    {
      "cell_type": "markdown",
      "source": [
        "The dataset below represents the ages of 500 people in a city: Data (Ages): Data: [45, 67, 89, 23, 45, 67, 89, 34, 56, 78, 90, 21, 45, 67, 89, 23, 45, 56, 78, 34, 23, 45, 67, 89, 45, 67, 89, 12, 34, 56, 78, 90, 23, 45, 67, 12, 34, 78, 45, 67, 89, 34, 56, 78, 90, 23, 56, 78, 89, 45, 12, 67, 45, 78, 23, 45, 67, 89, 34, 45, 23, 78, 67, 89, 45, 67, 89, 12, 34, 56, 78, 90, 23, 12, 34, 56, 78, 23, 45, 67, 89, 34, 45, 23, 45, 67, 89, 12, 34, 56, 78, 90, 45, 23] Use numpy and pandas to calculate the median and mode of the dataset Comment on the efficiency of your approach"
      ],
      "metadata": {
        "id": "dY9Oc9ZLBoZQ"
      }
    },
    {
      "cell_type": "code",
      "source": [
        "import numpy as np"
      ],
      "metadata": {
        "id": "92vQP_GTBqbH"
      },
      "execution_count": 1,
      "outputs": []
    },
    {
      "cell_type": "code",
      "source": [
        "ages = [45, 67, 89, 23, 45, 67, 89, 34, 56, 78, 90, 21, 45, 67, 89, 23, 45, 56, 78, 34,\n",
        "    23, 45, 67, 89, 45, 67, 89, 12, 34, 56, 78, 90, 23, 45, 67, 12, 34, 78, 45, 67,\n",
        "    89, 34, 56, 78, 90, 23, 56, 78, 89, 45, 12, 67, 45, 78, 23, 45, 67, 89, 34, 45,\n",
        "    23, 78, 67, 89, 45, 67, 89, 12, 34, 56, 78, 90, 23, 12, 34, 56, 78, 23, 45, 67,\n",
        "    89, 34, 45, 23, 45, 67, 89, 12, 34, 56, 78, 90, 45, 23]"
      ],
      "metadata": {
        "id": "pbnCnPepBxc9"
      },
      "execution_count": 2,
      "outputs": []
    },
    {
      "cell_type": "code",
      "source": [
        "sum(ages)"
      ],
      "metadata": {
        "colab": {
          "base_uri": "https://localhost:8080/"
        },
        "id": "5vqC1q_dB2TC",
        "outputId": "e4bc7e77-aaf3-4b05-a421-57b9c5984235"
      },
      "execution_count": 3,
      "outputs": [
        {
          "output_type": "execute_result",
          "data": {
            "text/plain": [
              "5146"
            ]
          },
          "metadata": {},
          "execution_count": 3
        }
      ]
    },
    {
      "cell_type": "code",
      "source": [
        "len(ages)"
      ],
      "metadata": {
        "colab": {
          "base_uri": "https://localhost:8080/"
        },
        "id": "JV9d7ZheB4ty",
        "outputId": "c87a62e0-7bbb-4f0b-b844-0725a933fff7"
      },
      "execution_count": 4,
      "outputs": [
        {
          "output_type": "execute_result",
          "data": {
            "text/plain": [
              "94"
            ]
          },
          "metadata": {},
          "execution_count": 4
        }
      ]
    },
    {
      "cell_type": "code",
      "source": [
        "mean=sum(ages)/len(ages)"
      ],
      "metadata": {
        "id": "T_dFu8McB7eB"
      },
      "execution_count": 5,
      "outputs": []
    },
    {
      "cell_type": "code",
      "source": [
        "print(\"Mean of sample data is:\",mean);"
      ],
      "metadata": {
        "colab": {
          "base_uri": "https://localhost:8080/"
        },
        "id": "FYLCxiTQCEim",
        "outputId": "dd06b90c-7a4a-4e9b-b2ce-ff43e7e1e3d3"
      },
      "execution_count": 6,
      "outputs": [
        {
          "output_type": "stream",
          "name": "stdout",
          "text": [
            "Mean of sample data is: 54.744680851063826\n"
          ]
        }
      ]
    },
    {
      "cell_type": "markdown",
      "source": [
        "**Question 2**"
      ],
      "metadata": {
        "id": "VA7Rki0LCgyj"
      }
    },
    {
      "cell_type": "markdown",
      "source": [
        "The table below represents the scores of 2000 students in an exam and their corresponding\n",
        "frequencies:\n",
        "Scores (X): [10, 20, 30, 40, 50, 60, 70, 80, 90, 100]\n",
        "Frequency (F): [200, 350, 400, 300, 250, 200, 150, 80, 50, 20]\n",
        "• Use pandas to calculate the median and mode of this grouped data.\n",
        "• Write a Python function to handle grouped data calculations efficiently for large\n",
        "datasets.\n",
        "1\n"
      ],
      "metadata": {
        "id": "CHrY05M5CvYx"
      }
    },
    {
      "cell_type": "code",
      "source": [
        "Scores=[10,20,30,40,50,60,70,80,90,100]"
      ],
      "metadata": {
        "id": "aA2RgWfRC57m"
      },
      "execution_count": 24,
      "outputs": []
    },
    {
      "cell_type": "code",
      "source": [
        "Frequency=[200, 350, 400, 300, 250, 200, 150, 80, 50, 20]"
      ],
      "metadata": {
        "id": "P4GlED_4DYHM"
      },
      "execution_count": 25,
      "outputs": []
    },
    {
      "cell_type": "code",
      "source": [
        "sum_fx=sum(Frequency*Scores for Frequency,Scores in zip(Frequency,Scores))"
      ],
      "metadata": {
        "id": "Om5epHUuGBdd"
      },
      "execution_count": 29,
      "outputs": []
    },
    {
      "cell_type": "code",
      "source": [
        "sum_f=sum(Frequency)"
      ],
      "metadata": {
        "id": "CoStLiNXGF04"
      },
      "execution_count": 30,
      "outputs": []
    },
    {
      "cell_type": "code",
      "source": [
        "mean=sum_fx/sum_f"
      ],
      "metadata": {
        "id": "kUyW_OfoGHTP"
      },
      "execution_count": 31,
      "outputs": []
    },
    {
      "cell_type": "code",
      "source": [
        "print(mean)"
      ],
      "metadata": {
        "colab": {
          "base_uri": "https://localhost:8080/"
        },
        "id": "L8FpfE4fGMWK",
        "outputId": "84925582-f9cc-4333-d78b-9e4e8b20038d"
      },
      "execution_count": 32,
      "outputs": [
        {
          "output_type": "stream",
          "name": "stdout",
          "text": [
            "40.45\n"
          ]
        }
      ]
    },
    {
      "cell_type": "markdown",
      "source": [
        "**Question 3**"
      ],
      "metadata": {
        "id": "lpqrYCaSGZ4o"
      }
    },
    {
      "cell_type": "markdown",
      "source": [
        "Question 3: Grouped Data with Class Intervals\n",
        "The following table shows the income distribution of 1000 households (in $1000s):\n",
        "Income Range (Class Interval) Frequency\n",
        "0   − 20 50\n",
        "20  − 40 120\n",
        "40  − 60 200\n",
        "60  − 80 300\n",
        "80  − 100 220\n",
        "100 − 120 70\n",
        "120 − 140 40\n",
        "• Use Python to calculate the median and mode for the grouped data.\n",
        "• For mode, determine the modal class.\n",
        "2\n"
      ],
      "metadata": {
        "id": "ps2ID-yLGcmu"
      }
    },
    {
      "cell_type": "code",
      "source": [
        "CI=[(0,20),(20,40),(40,60),(60,80),(80,100),(100,120),(120,140)]"
      ],
      "metadata": {
        "id": "gHOQGcfjGhBp"
      },
      "execution_count": 33,
      "outputs": []
    },
    {
      "cell_type": "code",
      "source": [
        "Frequencies=[50,120,200,300,220,70,40]"
      ],
      "metadata": {
        "id": "iYjPff_XHQVc"
      },
      "execution_count": 34,
      "outputs": []
    },
    {
      "cell_type": "code",
      "source": [
        "midpoints=[(start+end)/2 for start,end in CI]"
      ],
      "metadata": {
        "id": "_DDVy03kH_Wk"
      },
      "execution_count": 35,
      "outputs": []
    },
    {
      "cell_type": "code",
      "source": [
        "sum_fx=sum(Frequency*midpoints for Frequency,midpoints in zip(Frequency,midpoints))"
      ],
      "metadata": {
        "id": "AWlBpWEwIbNd"
      },
      "execution_count": 37,
      "outputs": []
    },
    {
      "cell_type": "code",
      "source": [
        "mean=sum_fx/sum(Frequency)"
      ],
      "metadata": {
        "id": "itcwbxiZIeqL"
      },
      "execution_count": 38,
      "outputs": []
    },
    {
      "cell_type": "code",
      "source": [
        "print(mean)"
      ],
      "metadata": {
        "colab": {
          "base_uri": "https://localhost:8080/"
        },
        "id": "1GDaaA17If02",
        "outputId": "d196ff38-593e-4d75-de8e-6d2d6a9d5124"
      },
      "execution_count": 39,
      "outputs": [
        {
          "output_type": "stream",
          "name": "stdout",
          "text": [
            "58.75\n"
          ]
        }
      ]
    }
  ]
}