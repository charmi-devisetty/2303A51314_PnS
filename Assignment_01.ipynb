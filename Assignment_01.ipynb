{
  "nbformat": 4,
  "nbformat_minor": 0,
  "metadata": {
    "colab": {
      "provenance": [],
      "authorship_tag": "ABX9TyOwZGc5/JZDcnN2R2XA23KK",
      "include_colab_link": true
    },
    "kernelspec": {
      "name": "python3",
      "display_name": "Python 3"
    },
    "language_info": {
      "name": "python"
    }
  },
  "cells": [
    {
      "cell_type": "markdown",
      "metadata": {
        "id": "view-in-github",
        "colab_type": "text"
      },
      "source": [
        "<a href=\"https://colab.research.google.com/github/charmi-devisetty/2303A51314_PnS/blob/main/Assignment_01.ipynb\" target=\"_parent\"><img src=\"https://colab.research.google.com/assets/colab-badge.svg\" alt=\"Open In Colab\"/></a>"
      ]
    },
    {
      "cell_type": "code",
      "source": [
        "import numpy as np"
      ],
      "metadata": {
        "id": "2fXiGa_UAFX4"
      },
      "execution_count": 21,
      "outputs": []
    },
    {
      "cell_type": "code",
      "execution_count": 20,
      "metadata": {
        "colab": {
          "base_uri": "https://localhost:8080/"
        },
        "id": "S238uiiT_sEV",
        "outputId": "0abffdb2-4ce8-4e4a-c015-bf15999e7dbc"
      },
      "outputs": [
        {
          "output_type": "stream",
          "name": "stdout",
          "text": [
            "[[ 9 10 11]\n",
            " [15 16 17]\n",
            " [21 22 23]\n",
            " [35 36 37]]\n"
          ]
        }
      ],
      "source": [
        "#print array\n",
        "A=np.array([[9,10,11],[15,16,17],[21,22,23],[35,36,37]])\n",
        "print(A)"
      ]
    },
    {
      "cell_type": "code",
      "source": [
        "print(A[0,:])\n",
        "print(A[1,:])\n",
        "print(A[2,:])\n",
        "print(A[3,:])"
      ],
      "metadata": {
        "colab": {
          "base_uri": "https://localhost:8080/"
        },
        "id": "rUTDwZcgAZLZ",
        "outputId": "4b150927-d19b-4e78-adfd-65d2d2eaf5a9"
      },
      "execution_count": 14,
      "outputs": [
        {
          "output_type": "stream",
          "name": "stdout",
          "text": [
            "[ 9 10 11]\n",
            "[15 16 17]\n",
            "[21 22 23]\n",
            "[35 36 37]\n"
          ]
        }
      ]
    },
    {
      "cell_type": "code",
      "source": [
        "#print 3rd column\n",
        "print(A[:,2])"
      ],
      "metadata": {
        "colab": {
          "base_uri": "https://localhost:8080/"
        },
        "id": "8sBG1r2xAsGA",
        "outputId": "f2fea3ae-b16f-4e6b-9a69-67bfb7e463bc"
      },
      "execution_count": 22,
      "outputs": [
        {
          "output_type": "stream",
          "name": "stdout",
          "text": [
            "[11 17 23 37]\n"
          ]
        }
      ]
    },
    {
      "cell_type": "code",
      "source": [
        "#print 3rd row\n",
        "print(A[2,:])"
      ],
      "metadata": {
        "colab": {
          "base_uri": "https://localhost:8080/"
        },
        "id": "eAhvSSB0BZEi",
        "outputId": "6c2d3aab-b778-401b-9def-2a39dcd24bbf"
      },
      "execution_count": 23,
      "outputs": [
        {
          "output_type": "stream",
          "name": "stdout",
          "text": [
            "[21 22 23]\n"
          ]
        }
      ]
    },
    {
      "cell_type": "code",
      "source": [
        "#print size\n",
        "print(np.size(A))"
      ],
      "metadata": {
        "colab": {
          "base_uri": "https://localhost:8080/"
        },
        "id": "tDk4mXokBoOL",
        "outputId": "8322c1a9-e9fe-44a4-8ccf-c6751e5b407f"
      },
      "execution_count": 16,
      "outputs": [
        {
          "output_type": "stream",
          "name": "stdout",
          "text": [
            "12\n"
          ]
        }
      ]
    },
    {
      "cell_type": "code",
      "source": [
        "#print element\n",
        "print(A[2,2])"
      ],
      "metadata": {
        "colab": {
          "base_uri": "https://localhost:8080/"
        },
        "id": "Z8dnOlXtCAnr",
        "outputId": "ea5ea458-93b8-42d4-c6cb-68eeebe189d4"
      },
      "execution_count": 24,
      "outputs": [
        {
          "output_type": "stream",
          "name": "stdout",
          "text": [
            "23\n"
          ]
        }
      ]
    }
  ]
}