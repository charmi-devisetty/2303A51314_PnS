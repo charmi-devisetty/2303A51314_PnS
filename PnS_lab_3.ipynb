{
  "nbformat": 4,
  "nbformat_minor": 0,
  "metadata": {
    "colab": {
      "provenance": [],
      "authorship_tag": "ABX9TyMADuXfGQQPrcr3VpVijV6s",
      "include_colab_link": true
    },
    "kernelspec": {
      "name": "python3",
      "display_name": "Python 3"
    },
    "language_info": {
      "name": "python"
    }
  },
  "cells": [
    {
      "cell_type": "markdown",
      "metadata": {
        "id": "view-in-github",
        "colab_type": "text"
      },
      "source": [
        "<a href=\"https://colab.research.google.com/github/charmi-devisetty/2303A51314_PnS/blob/main/PnS_lab_3.ipynb\" target=\"_parent\"><img src=\"https://colab.research.google.com/assets/colab-badge.svg\" alt=\"Open In Colab\"/></a>"
      ]
    },
    {
      "cell_type": "markdown",
      "source": [
        "Question 1: Ungrouped Data\n",
        "Given the ungrouped dataset below, calculate the median and mode:\n",
        "Dataset: [12, 45, 67, 23, 45, 89, 45, 12, 33, 67, 67, 78, 45, 23, 23, 56, 89, 45, 33, 45]\n",
        "Tasks:\n",
        "1. Compute the median and mode using numpy.\n",
        "2. Compute the mode using pandas"
      ],
      "metadata": {
        "id": "4xvrlvRm8IN-"
      }
    },
    {
      "cell_type": "code",
      "source": [
        "import numpy as np\n",
        "import pandas as pd\n",
        "data=[12, 45, 67, 23, 45, 89, 45, 12, 33, 67, 67, 78, 45, 23, 23, 56, 89, 45, 33, 45]\n",
        "median_numpy=np.median(data)\n",
        "print(\"Median using numpy:\",median_numpy)\n"
      ],
      "metadata": {
        "colab": {
          "base_uri": "https://localhost:8080/"
        },
        "id": "QmU9wigy8LcW",
        "outputId": "30cf65aa-ef0c-4110-a33f-7f979f93c257"
      },
      "execution_count": 1,
      "outputs": [
        {
          "output_type": "stream",
          "name": "stdout",
          "text": [
            "Median using numpy: 45.0\n"
          ]
        }
      ]
    },
    {
      "cell_type": "code",
      "source": [
        "data=[12, 45, 67, 23, 45, 89, 45, 12, 33, 67, 67, 78, 45, 23, 23, 56, 89, 45, 33, 45]\n",
        "mode_numpy=np.bincount(data).argmax()\n",
        "print(\"Mode using numpy:\",mode_numpy)"
      ],
      "metadata": {
        "colab": {
          "base_uri": "https://localhost:8080/"
        },
        "id": "deKtqUK39j0S",
        "outputId": "04650e17-8e05-465f-931f-58138cd176f2"
      },
      "execution_count": 5,
      "outputs": [
        {
          "output_type": "stream",
          "name": "stdout",
          "text": [
            "Mode using numpy: 45\n"
          ]
        }
      ]
    },
    {
      "cell_type": "code",
      "source": [
        "mode_pandas = pd.Series(data).mode()[0]\n",
        "print(\"Mode using pandas:\",mode_pandas)"
      ],
      "metadata": {
        "colab": {
          "base_uri": "https://localhost:8080/"
        },
        "id": "HspCoqOu-HmV",
        "outputId": "40ceb355-099c-4459-d23f-760995276870"
      },
      "execution_count": 7,
      "outputs": [
        {
          "output_type": "stream",
          "name": "stdout",
          "text": [
            "Mode using pandas: 45\n"
          ]
        }
      ]
    },
    {
      "cell_type": "markdown",
      "source": [
        "#Question 2: Grouped Data\n",
        "The following data shows the frequency of scores in a test:\n",
        "Score Frequency\n",
        "10        5\n",
        "20        8\n",
        "30        12\n",
        "40        15\n",
        "50         7\n",
        "Tasks:\n",
        "1. Compute the median and mode using numpy.\n",
        "2. Compute the mode using pandas"
      ],
      "metadata": {
        "id": "rU89VEC_-hIn"
      }
    },
    {
      "cell_type": "code",
      "source": [
        "Score = [10, 20, 30, 40, 50]\n",
        "Frequency = [5, 8, 12, 15, 7]\n",
        "df = pd.DataFrame({'Score': Score, 'Frequency': Frequency})\n",
        "median = np.median(df['Score'])\n",
        "print(\"median using numpy\",median)"
      ],
      "metadata": {
        "colab": {
          "base_uri": "https://localhost:8080/"
        },
        "id": "Z-nTH2d_AX5M",
        "outputId": "0c503c4d-54bd-47e5-8ab3-bbaa3374c7e0"
      },
      "execution_count": 13,
      "outputs": [
        {
          "output_type": "stream",
          "name": "stdout",
          "text": [
            "median using numpy 30.0\n"
          ]
        }
      ]
    },
    {
      "cell_type": "code",
      "source": [
        "mode = df['Score'].mode()[0]\n",
        "print(\"mode using numpy\",mode)"
      ],
      "metadata": {
        "colab": {
          "base_uri": "https://localhost:8080/"
        },
        "id": "hwbw8E_ZAZhn",
        "outputId": "cefd611f-c9c9-4d84-c0b8-fe0990aba935"
      },
      "execution_count": 15,
      "outputs": [
        {
          "output_type": "stream",
          "name": "stdout",
          "text": [
            "mode using numpy 10\n"
          ]
        }
      ]
    },
    {
      "cell_type": "markdown",
      "source": [
        "#Question 3: Grouped Data\n",
        "The following data represents a frequency distribution with class intervals:\n",
        "Class Interval Frequency\n",
        "0  − 10 4\n",
        "10 − 20 6\n",
        "20 − 30 10\n",
        "30 − 40 8\n",
        "40 − 50 2\n",
        "1\n",
        "Tasks:\n",
        "1. Use the class intervals and frequencies to compute the median and mode.\n",
        "2. Approximate the median and mode using formulas for grouped data."
      ],
      "metadata": {
        "id": "xUqWG8fSBZhe"
      }
    },
    {
      "cell_type": "code",
      "source": [
        "import pandas as pd\n",
        "import numpy as np\n",
        "\n",
        "class_intervals = [(0, 10), (10,20), (20,30), (30,40),(40,50)]\n",
        "frequencies = [4,6,10,8,2]\n",
        "df = pd.DataFrame({'Class': class_intervals, 'Frequency':frequencies})\n",
        "df['Cumulative Frequency'] = df['Frequency'].cumsum()\n",
        "\n",
        "median = np.median(df['Class'])\n",
        "\n",
        "mode = df['Class'].mode()[0]\n",
        "mode = df['Class'].mode()[0]\n",
        "print(f\"Median: {median}\")\n",
        "print(f\"Mode: {mode}\")"
      ],
      "metadata": {
        "colab": {
          "base_uri": "https://localhost:8080/"
        },
        "id": "k3SrkEP_Dhqv",
        "outputId": "1f90c77b-2b89-43ba-d99e-24ee49cfec3d"
      },
      "execution_count": 22,
      "outputs": [
        {
          "output_type": "stream",
          "name": "stdout",
          "text": [
            "Median: [20. 30.]\n",
            "Mode: (0, 10)\n"
          ]
        }
      ]
    }
  ]
}